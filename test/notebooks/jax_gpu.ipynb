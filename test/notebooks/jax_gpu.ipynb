{
 "cells": [
  {
   "cell_type": "markdown",
   "metadata": {},
   "source": [
    "## Jax GPU Memory management"
   ]
  },
  {
   "cell_type": "code",
   "execution_count": 1,
   "metadata": {},
   "outputs": [],
   "source": [
    "%load_ext autoreload\n",
    "%autoreload 3 --print"
   ]
  },
  {
   "cell_type": "code",
   "execution_count": 2,
   "metadata": {},
   "outputs": [],
   "source": [
    "from kpsn.models.morph import affine_mode as afm\n",
    "from kpsn.models.morph import scalar \n",
    "from kpsn.models.pose import gmm\n",
    "from kpsn.models import joint_model\n",
    "from kpsn.fitting import em\n",
    "from kpsn import models\n",
    "from kpsn import util\n",
    "from kpsn.models import pose\n",
    "from kpsn.util import pca\n",
    "from kpsn.util import keypt_io\n",
    "from kpsn.util import alignment\n",
    "\n",
    "import kpsn_test.visualize as viz\n",
    "\n",
    "import jax.numpy as jnp\n",
    "import jax.random as jr\n",
    "import jax.nn as jnn\n",
    "import numpy as np\n",
    "\n",
    "import matplotlib.pyplot as plt\n",
    "import seaborn as sns\n",
    "\n",
    "import joblib"
   ]
  },
  {
   "cell_type": "code",
   "execution_count": 3,
   "metadata": {},
   "outputs": [],
   "source": [
    "%matplotlib inline\n",
    "%config InlineBackend.figure_format='retina'"
   ]
  },
  {
   "cell_type": "code",
   "execution_count": 4,
   "metadata": {},
   "outputs": [],
   "source": [
    "from jax import config\n",
    "config.update(\"jax_debug_nans\", True)"
   ]
  },
  {
   "cell_type": "markdown",
   "metadata": {},
   "source": [
    "### Load data"
   ]
  },
  {
   "cell_type": "code",
   "execution_count": 5,
   "metadata": {},
   "outputs": [],
   "source": [
    "metadata, keypts = keypt_io.npy_dataset(\"/n/groups/datta/kai/mph/data_explore/data/\")\n",
    "\n",
    "# operate on a subset of the data without some redundancy\n",
    "# since we don't care about dynamics anyway\n",
    "keypts = keypt_io.subsample_time(keypts, 15)\n",
    "\n",
    "# rotate subject to standard orientation\n",
    "align_result = alignment.sagittal_align(keypts)\n",
    "metadata, align_result = keypt_io.select_subset(metadata, align_result, [\n",
    "    i_subj for i_subj in range(len(align_result))\n",
    "    if (not metadata['age'][i_subj] in [9, 12])\n",
    "])\n",
    "\n",
    "gt_obs = pose.Observations(\n",
    "    keypt_io.to_feats(util.computations.restack(align_result))[:, :],\n",
    "    util.computations.stack_ixs(align_result))"
   ]
  },
  {
   "cell_type": "markdown",
   "metadata": {},
   "source": [
    "### Set up model"
   ]
  },
  {
   "cell_type": "code",
   "execution_count": 21,
   "metadata": {},
   "outputs": [],
   "source": [
    "N = len(align_result)\n",
    "M = gt_obs.keypts.shape[1]\n",
    "eps = 0.05\n",
    "morph_hyperparams = afm.AffineModeMorphHyperparams(\n",
    "    N = N, M = M, L = 1,\n",
    "    modes=None, update_scale = 0.3)\n",
    "pose_hyperparams = gmm.GMMHyperparams(\n",
    "    N = N, M = M, L = 5, eps = eps,\n",
    "    pop_weight_uniformity = 10,\n",
    "    subj_weight_uniformity = 100)\n",
    "model = joint_model.JointModel(morph = afm.AffineModeMorph, posespace = gmm.GMMPoseSpaceModel)\n",
    "hyperparams = joint_model.JointHyperparams(morph = morph_hyperparams, posespace = pose_hyperparams)"
   ]
  },
  {
   "cell_type": "code",
   "execution_count": 26,
   "metadata": {},
   "outputs": [],
   "source": [
    "init_params = joint_model.init(\n",
    "    model,\n",
    "    hyperparams,\n",
    "    gt_obs,\n",
    "    reference_subject = 0,\n",
    "    posespace_kws = dict(\n",
    "        fit_to_all_subj = False,\n",
    "        subsample = 0.1)\n",
    ")"
   ]
  },
  {
   "cell_type": "code",
   "execution_count": 27,
   "metadata": {},
   "outputs": [
    {
     "data": {
      "image/png": "[encoded data removed]",
      "text/plain": [
       "<Figure size 700x200 with 2 Axes>"
      ]
     },
     "metadata": {},
     "output_type": "display_data"
    }
   ],
   "source": [
    "fig, ax = plt.subplots(1, 2, figsize = (7, 2))\n",
    "\n",
    "jitter = 0.1\n",
    "ages, age_groups = keypt_io.get_groups(metadata, 'age')\n",
    "age_pal = dict(zip(ages, sns.hls_palette(l = 0.4, n_colors = len(ages) + 2)[1:-1]))\n",
    "comp_pal = sns.color_palette('Set1', hyperparams.posespace.L)\n",
    "\n",
    "for i_age, (age, age_group) in enumerate(zip(ages, age_groups)):\n",
    "    ax[0].axhline(1, ls = '--', color = '.6', lw = 1)\n",
    "    ax[0].plot(\n",
    "        np.random.uniform(-jitter, jitter, len(age_group)) + i_age,\n",
    "        jnp.exp(init_params.morph.uniform_scale()[age_group]),\n",
    "        'o', ms = 3, color = age_pal[age])\n",
    "    for i_comp in range(hyperparams.posespace.L):\n",
    "        ax[1].plot(\n",
    "            np.random.uniform(-jitter, jitter, len(age_group)) + i_age,\n",
    "            init_params.posespace.weights()[age_group, i_comp],\n",
    "            'o', ms = 3, color = comp_pal[i_comp],\n",
    "        )\n",
    "\n",
    "for i in [0,1]: \n",
    "    ax[i].set_xticks(np.arange(len(ages)))\n",
    "    ax[i].set_xticklabels(ages)\n",
    "    ax[i].set_xlabel(\"Age\")\n",
    "ax[0].set_ylabel(\"Initialized\\nuniform scale\")\n",
    "ax[1].set_ylabel(\"Initialized\\ncomp. weights\")\n",
    "sns.despine()\n",
    "plt.tight_layout()\n",
    "plt.show()"
   ]
  },
  {
   "cell_type": "code",
   "execution_count": null,
   "metadata": {},
   "outputs": [],
   "source": []
  }
 ],
 "metadata": {
  "kernelspec": {
   "display_name": "Python 3 (ipykernel)",
   "language": "python",
   "name": "python3"
  },
  "language_info": {
   "codemirror_mode": {
    "name": "ipython",
    "version": 3
   },
   "file_extension": ".py",
   "mimetype": "text/x-python",
   "name": "python",
   "nbconvert_exporter": "python",
   "pygments_lexer": "ipython3",
   "version": "3.9.16"
  }
 },
 "nbformat": 4,
 "nbformat_minor": 2
}
