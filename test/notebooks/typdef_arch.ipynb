{
 "cells": [
  {
   "cell_type": "code",
   "execution_count": 2,
   "metadata": {},
   "outputs": [],
   "source": [
    "from typing import List, NamedTuple, Protocol, Callable\n",
    "from jaxtyping import Float, Array, Scalar\n"
   ]
  },
  {
   "cell_type": "code",
   "execution_count": 14,
   "metadata": {},
   "outputs": [
    {
     "ename": "SyntaxError",
     "evalue": "invalid syntax (18468965.py, line 35)",
     "output_type": "error",
     "traceback": [
      "\u001b[0;36m  Cell \u001b[0;32mIn[14], line 35\u001b[0;36m\u001b[0m\n\u001b[0;31m    'morph' morph_dicts[i]})\u001b[0m\n\u001b[0m            ^\u001b[0m\n\u001b[0;31mSyntaxError\u001b[0m\u001b[0;31m:\u001b[0m invalid syntax\n"
     ]
    }
   ],
   "source": [
    "### --- Parameter data types ---\n",
    "class ModelParams(object):\n",
    "    def __init__(self, param_dict: dict):\n",
    "        self._tree = param_dict\n",
    "\n",
    "    def by_type(self):\n",
    "        static = {k: self._tree[k] for k in self._static}\n",
    "        return (static,)\n",
    "    \n",
    "    @classmethod\n",
    "    def from_types(cls, static,):\n",
    "        return cls({**static})\n",
    "\n",
    "class PoseModelParams():\n",
    "    n_feats: int = property(lambda self: self._tree['n_feats'])\n",
    "\n",
    "    _static = ['n_feats']\n",
    "\n",
    "class GMMParams(PoseModelParams):\n",
    "    n_components: int = property(lambda self: self._tree['n_components'])\n",
    "\n",
    "    _static = PoseModelParams._static + ['n_components']\n",
    "\n",
    "class JointModelParams(object):\n",
    "    def __init__(self, pose, morph):\n",
    "        self._pose = pose\n",
    "        self._morph = morph\n",
    "\n",
    "    def by_type(self):\n",
    "        pose_dicts = self._pose.by_type()\n",
    "        morph_dicts = self._morph.by_type()\n",
    "        return tuple({'pose': pose_dicts[i],\n",
    "                      'morph': morph_dicts[i]})\n",
    "\n",
    "    def from_types(model: JointModel, static: dict,):\n",
    "        return JointModelParams(\n",
    "            model.pose.ParamClass.from_types(static['pose']),\n",
    "            model.morph.ParamClass.from_types(static['morph']))"
   ]
  },
  {
   "cell_type": "code",
   "execution_count": 8,
   "metadata": {},
   "outputs": [],
   "source": [
    "params = GMMParams({'n_components': 3, 'n_feats': 2})"
   ]
  },
  {
   "cell_type": "code",
   "execution_count": 13,
   "metadata": {},
   "outputs": [
    {
     "data": {
      "text/plain": [
       "(__main__.GMMParams, __main__.GMMParams)"
      ]
     },
     "execution_count": 13,
     "metadata": {},
     "output_type": "execute_result"
    }
   ],
   "source": [
    "type(params), params.__class__"
   ]
  },
  {
   "cell_type": "code",
   "execution_count": null,
   "metadata": {},
   "outputs": [],
   "source": [
    "# --- Model types ---\n",
    "class PoseModel(Protocol):\n",
    "    ParamClass: type\n",
    "    load_params: Callable\n",
    "    pose_logprob: Callable\n",
    "    aux_distribution: Callable\n",
    "    construct_params: Callable\n",
    "    init_hyperparams: Callable\n",
    "    init_params: Callable\n",
    "    log_prior: Callable\n",
    "    reports: Callable\n",
    "    sample_hyperparams: Callable\n",
    "    sample_params: Callable\n",
    "    sample_poses: Callable\n",
    "    \n",
    "    "
   ]
  },
  {
   "cell_type": "markdown",
   "metadata": {},
   "source": [
    "### Scan / model fitting code"
   ]
  },
  {
   "cell_type": "code",
   "execution_count": 1,
   "metadata": {},
   "outputs": [],
   "source": [
    "setup_scan = None\n",
    "run_scan = None\n",
    "update_config = None\n",
    "kpsn_project = None\n",
    "setup_model = None\n",
    "\n",
    "project_dir = None"
   ]
  },
  {
   "cell_type": "code",
   "execution_count": null,
   "metadata": {},
   "outputs": [],
   "source": [
    "setup_scan(\n",
    "    project_dir / \"scans\" / \"scan0\",\n",
    "    hyperparam_values = {\n",
    "        \"morph.variance_prior\": [1e-2, 1e-1, 1e0, 1e1, 1e2],\n",
    "    })\n",
    "update_config(\n",
    "    project_dir / \"scans\" / \"scan0\" / \"base_model_config.yml\",\n",
    "    {\"hyperparams.pose.n_components\": 3,}\n",
    ")\n",
    "run_scan(project_dir / \"scans\" / \"scan0\")"
   ]
  },
  {
   "cell_type": "code",
   "execution_count": null,
   "metadata": {},
   "outputs": [],
   "source": [
    "paths = kpsn_project(project_dir)\n",
    "\n",
    "setup_scan(\n",
    "    paths.scan(\"scan0\"),\n",
    "    {\"hyperparams.morph.variance_prior\": [1e-2, 1e-1, 1e0, 1e1, 1e2],})\n",
    "update_config(\n",
    "    paths.scan(\"scan0\") / \"base_model_config.yml\",\n",
    "    {\"hyperparams.pose.n_components\": 3,}\n",
    ")\n",
    "run_scan(\n",
    "    paths.scan(\"scan0\"),\n",
    "    paths.models)"
   ]
  },
  {
   "cell_type": "code",
   "execution_count": null,
   "metadata": {},
   "outputs": [],
   "source": [
    "# defaults contain: model.pose: gmm, model.morph: affine\n",
    "setup_model(\n",
    "    paths.model(\"model0\"),\n",
    "    config = {\"hyperparams.pose.n_components\": 3}\n",
    ")"
   ]
  }
 ],
 "metadata": {
  "kernelspec": {
   "display_name": "mph",
   "language": "python",
   "name": "mph"
  },
  "language_info": {
   "codemirror_mode": {
    "name": "ipython",
    "version": 3
   },
   "file_extension": ".py",
   "mimetype": "text/x-python",
   "name": "python",
   "nbconvert_exporter": "python",
   "pygments_lexer": "ipython3",
   "version": "3.9.6"
  }
 },
 "nbformat": 4,
 "nbformat_minor": 2
}
