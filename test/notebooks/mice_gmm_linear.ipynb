{
 "cells": [
  {
   "cell_type": "markdown",
   "metadata": {},
   "source": [
    "## Run a `GMM`-`AffineMode` model on the 9-12-removed dataset"
   ]
  },
  {
   "cell_type": "code",
   "execution_count": 1,
   "metadata": {},
   "outputs": [],
   "source": [
    "%load_ext autoreload\n",
    "%autoreload 3 --print"
   ]
  },
  {
   "cell_type": "code",
   "execution_count": 2,
   "metadata": {},
   "outputs": [
    {
     "ename": "ModuleNotFoundError",
     "evalue": "No module named 'kpsn'",
     "output_type": "error",
     "traceback": [
      "\u001b[0;31m---------------------------------------------------------------------------\u001b[0m",
      "\u001b[0;31mModuleNotFoundError\u001b[0m                       Traceback (most recent call last)",
      "\u001b[1;32m/home/kaf200/projects/morphology/generative/test/notebooks/mice_gmm_linear.ipynb Cell 3\u001b[0m line \u001b[0;36m1\n\u001b[0;32m----> <a href='vscode-notebook-cell://tunnel%2Bo2/home/kaf200/projects/morphology/generative/test/notebooks/mice_gmm_linear.ipynb#W3sdnNjb2RlLXJlbW90ZQ%3D%3D?line=0'>1</a>\u001b[0m \u001b[39mfrom\u001b[39;00m \u001b[39mkpsn\u001b[39;00m\u001b[39m.\u001b[39;00m\u001b[39mmodels\u001b[39;00m\u001b[39m.\u001b[39;00m\u001b[39mmorph\u001b[39;00m \u001b[39mimport\u001b[39;00m affine_mode \u001b[39mas\u001b[39;00m afm\n\u001b[1;32m      <a href='vscode-notebook-cell://tunnel%2Bo2/home/kaf200/projects/morphology/generative/test/notebooks/mice_gmm_linear.ipynb#W3sdnNjb2RlLXJlbW90ZQ%3D%3D?line=1'>2</a>\u001b[0m \u001b[39mfrom\u001b[39;00m \u001b[39mkpsn\u001b[39;00m\u001b[39m.\u001b[39;00m\u001b[39mmodels\u001b[39;00m\u001b[39m.\u001b[39;00m\u001b[39mmorph\u001b[39;00m \u001b[39mimport\u001b[39;00m scalar \n\u001b[1;32m      <a href='vscode-notebook-cell://tunnel%2Bo2/home/kaf200/projects/morphology/generative/test/notebooks/mice_gmm_linear.ipynb#W3sdnNjb2RlLXJlbW90ZQ%3D%3D?line=2'>3</a>\u001b[0m \u001b[39mfrom\u001b[39;00m \u001b[39mkpsn\u001b[39;00m\u001b[39m.\u001b[39;00m\u001b[39mmodels\u001b[39;00m\u001b[39m.\u001b[39;00m\u001b[39mpose\u001b[39;00m \u001b[39mimport\u001b[39;00m gmm\n",
      "\u001b[0;31mModuleNotFoundError\u001b[0m: No module named 'kpsn'"
     ]
    }
   ],
   "source": [
    "from kpsn.models.morph import affine_mode as afm\n",
    "from kpsn.models.morph import scalar \n",
    "from kpsn.models.pose import gmm\n",
    "from kpsn.models import joint_model\n",
    "from kpsn.fitting import em\n",
    "from kpsn import models\n",
    "from kpsn import util\n",
    "from kpsn.models import pose\n",
    "from kpsn.util import pca\n",
    "from kpsn.util import keypt_io\n",
    "from kpsn.util import alignment\n",
    "\n",
    "from mph.generative.test.visualize import mixtures\n",
    "from mph.generative.test.visualize import morphs as viz_morphs\n",
    "from mph.generative.test.visualize import diagram_plots\n",
    "\n",
    "from mph.data_explore.lib import keypt_io\n",
    "from mph.data_explore.lib import diagram_plots\n",
    "\n",
    "import jax.numpy as jnp\n",
    "import jax.random as jr\n",
    "import jax.nn as jnn\n",
    "import numpy as np\n",
    "\n",
    "import matplotlib.pyplot as plt\n",
    "import seaborn as sns\n",
    "\n",
    "import joblib"
   ]
  },
  {
   "cell_type": "code",
   "execution_count": null,
   "metadata": {},
   "outputs": [],
   "source": [
    "%matplotlib inline\n",
    "%config InlineBackend.figure_format='retina'"
   ]
  }
 ],
 "metadata": {
  "kernelspec": {
   "display_name": "mph",
   "language": "python",
   "name": "python3"
  },
  "language_info": {
   "codemirror_mode": {
    "name": "ipython",
    "version": 3
   },
   "file_extension": ".py",
   "mimetype": "text/x-python",
   "name": "python",
   "nbconvert_exporter": "python",
   "pygments_lexer": "ipython3",
   "version": "3.9.16"
  },
  "orig_nbformat": 4
 },
 "nbformat": 4,
 "nbformat_minor": 2
}
